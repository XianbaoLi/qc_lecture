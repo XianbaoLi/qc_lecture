{
 "cells": [
  {
   "cell_type": "code",
   "execution_count": null,
   "metadata": {},
   "outputs": [],
   "source": [
    "## Quantum channels\n",
    "\n",
    "## Quantum noise\n",
    "\n",
    "## Quantum error mitigation\n",
    "\n",
    "## Quantum error correction"
   ]
  }
 ],
 "metadata": {
  "language_info": {
   "name": "python"
  }
 },
 "nbformat": 4,
 "nbformat_minor": 2
}
