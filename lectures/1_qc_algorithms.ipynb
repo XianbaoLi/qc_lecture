{
 "cells": [
  {
   "cell_type": "markdown",
   "metadata": {},
   "source": [
    "# Quantum Algorithms"
   ]
  },
  {
   "cell_type": "markdown",
   "metadata": {},
   "source": [
    "In this chapter, we mainly focus on quantum algorithms of logical qubits, where quantum noise can be safely discarded due to fault tolerance architecture. The algorithms presented in this chapter have mathmatically rigourous complexity scaling whose performance is guaranteed if we can build fault tolerant quantum computers in the future. However, the end-to-end performance advantage over classical algorithms can still be spurious especially for quadratic acceleration algorithms if we consider the error correction overhead and the actual running time [(ref)](https://dl.acm.org/doi/pdf/10.1145/3571725)."
   ]
  },
  {
   "cell_type": "markdown",
   "metadata": {},
   "source": [
    "## Quantum algorithms with queries"
   ]
  },
  {
   "cell_type": "markdown",
   "metadata": {},
   "source": [
    "## Dynamics simulation via Trotterization"
   ]
  },
  {
   "cell_type": "markdown",
   "metadata": {},
   "source": [
    "## Ground state simulation via phase estimation"
   ]
  }
 ],
 "metadata": {
  "language_info": {
   "name": "python"
  },
  "orig_nbformat": 4
 },
 "nbformat": 4,
 "nbformat_minor": 2
}
