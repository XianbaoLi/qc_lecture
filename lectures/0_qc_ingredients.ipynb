{
 "cells": [
  {
   "cell_type": "markdown",
   "metadata": {},
   "source": [
    "# Quantum Computing Basics\n",
    "\n",
    "**Perquisites:** Linear Algebra, Quantum Mechanics and Python"
   ]
  },
  {
   "cell_type": "code",
   "execution_count": 10,
   "metadata": {},
   "outputs": [],
   "source": [
    "import tensorcircuit as tc\n",
    "import numpy as np"
   ]
  },
  {
   "cell_type": "markdown",
   "metadata": {},
   "source": [
    "## Qubits"
   ]
  },
  {
   "cell_type": "markdown",
   "metadata": {},
   "source": [
    "**Superposition**: In classical computation, the unit of information is a bit, which can be 0 or 1. In quantum computation, this unit is a quantum bit (qubit), which is a superposition of 0 and 1 ($|0\\rangle$ and $|1\\rangle$ in Dirac notation). We identify the two basis states with the vectors $\\binom{1}{0}$ and $\\binom{0}{1}$, respectively. A single qubit can be in any superposition\n",
    "\n",
    "$$\n",
    "\\alpha_0|0\\rangle+\\alpha_1|1\\rangle=\\binom{\\alpha_0}{\\alpha_1},\n",
    "$$\n",
    "\n",
    "with $\\left|\\alpha_0\\right|^2+\\left|\\alpha_1\\right|^2=1.$\n",
    "\n",
    "**Multiple-qubit system**: Similarly we can think of systems of more than 1 qubit, which \"live\" in the tensor product space of multiple-qubit systems. For instance, a 2-qubit system has 4 basis states: $|0\\rangle \\otimes|0\\rangle,|0\\rangle \\otimes|1\\rangle,|1\\rangle \\otimes|0\\rangle,|1\\rangle \\otimes|1\\rangle$. Here for instance $|1\\rangle \\otimes|0\\rangle$ means that the first qubit is in its basis state $|1\\rangle$ and the second qubit is in its basis state $|0\\rangle$. We will often abbreviate this to $|1\\rangle|0\\rangle$,or $|10\\rangle $, which is equivalent \n",
    "\n",
    "$$\n",
    "|10\\rangle = \\binom{0}{1}\\otimes\\binom{1}{0} = \\begin{pmatrix} 0\\\\ 0\\\\ 1\\\\ 0\\end{pmatrix}\n",
    "$$\n",
    "\n",
    "in vector space. \n",
    "\n",
    "More generally, a register of $n$ qubits has $N=2^n$ basis states, each of the form $\\left|b_1 b_2 \\cdots b_n\\right\\rangle$, with $b_i \\in\\{0,1\\}$. We often abbreviate $0 \\cdots 0$ to $0^n$. Since bitstrings of length $n$ can be viewed as numbers between 0 and $2^n-1$, we can also write the basis states as numbers $|0\\rangle,|1\\rangle,|2\\rangle, \\cdots,\\left|2^n-1\\right\\rangle$. A quantum state of $n$ qubits can be in any superposition\n",
    "\n",
    "$$\n",
    "\\vert \\psi\\rangle=\\sum_{j=0}^{2^n-1}\\alpha_j|j\\rangle\n",
    "$$\n",
    "\n",
    "with $ \\sum_{j=0}^{2^n-1}\\left|\\alpha_j\\right|^2=1$. The adjoint bra state for the ket state is defined as  $\\langle \\psi \\vert = \\sum_{j=0}^{2^n-1}\\alpha_j^*\\langle j\\vert$.\n",
    "\n",
    "\n",
    "If we measure $\\vert \\psi\\rangle$ in the computational basis, we obtain the $n$-bit state state $|j\\rangle$ with probability $\\left|\\alpha_j\\right|^2$\n",
    "\n",
    "**Overlap**: The overlap between two quantum states in  $n$-qubit space ($N=2^n$) is expressed as follows in Dirac notation and explicit vectors:\n",
    "\n",
    "$$\n",
    "\\langle \\psi\\vert \\phi\\rangle = \\begin{pmatrix}\\psi_0^*, \\psi_1^*, \\cdots \\psi_{N-1}^*\\end{pmatrix}\\begin{pmatrix} \\phi_0\\\\ \\phi_1 \\\\ \\cdots\\\\ \\phi_{N-1}\\end{pmatrix}=\\sum_{i=0}^{2^n-1} \\psi_i^*\\phi_i.\n",
    "$$"
   ]
  },
  {
   "cell_type": "markdown",
   "metadata": {},
   "source": [
    "*Excercise:* Quantum basis state $\\vert 5\\rangle$ for 4-qubit system."
   ]
  },
  {
   "cell_type": "code",
   "execution_count": 14,
   "metadata": {},
   "outputs": [
    {
     "name": "stdout",
     "output_type": "stream",
     "text": [
      "basis state |0101>\n",
      "the state in vector form is [0. 0. 0. 0. 0. 1. 0. 0. 0. 0. 0. 0. 0. 0. 0. 0.]\n"
     ]
    }
   ],
   "source": [
    "s = f\"{5:04b}\"\n",
    "print(f\"basis state |{s}>\")\n",
    "v1 = np.array([0, 1.0])\n",
    "v0 = np.array([1, 0.0])\n",
    "v_list = [v0, v1]\n",
    "\n",
    "\n",
    "def tensor_product(*vs):\n",
    "    if len(vs) > 2:\n",
    "        return np.kron(vs[0], tensor_product(*vs[1:]))\n",
    "    elif len(vs) == 2:\n",
    "        return np.kron(vs[0], vs[1])\n",
    "    else:\n",
    "        raise ValueError(\"The number of vectors is not allowed\")\n",
    "\n",
    "\n",
    "print(f\"the state in vector form is {tensor_product(*[v_list[int(i)] for i in s])}\")\n",
    "\n",
    "# the nonzero element is exact the 5-th (0-indexed)"
   ]
  },
  {
   "cell_type": "markdown",
   "metadata": {},
   "source": [
    "## Quantum gates"
   ]
  },
  {
   "cell_type": "markdown",
   "metadata": {},
   "source": [
    "A unitary that acts on several qubits is called a quantum gate, in analogy to classical logic gates like AND, OR, NOT.\n",
    "\n",
    "\n",
    "**Single-qubit gates**:\n",
    "\n",
    "Some typical single-qubit gates (2*2 unitary matrix).\n",
    "\n",
    "1. $X$: the bitflip gate which negates the bit, i.e., $X\\vert 0\\rangle = \\vert 1\\rangle, X\\vert 1\\rangle = \\vert 0 \\rangle$,\n",
    "\n",
    "$$\n",
    "X=\\begin{pmatrix}\n",
    "0 & 1\\\\\n",
    "1&0\n",
    "\\end{pmatrix}\n",
    ".\n",
    "$$\n",
    "\n",
    "2. $Z$: the phaseflip gate which puts a $−$ in front of $\\vert 1\\rangle,\n",
    "\n",
    "$$\n",
    "Z=\\begin{pmatrix}\n",
    "1 & 0\\\\\n",
    "0& -1\n",
    "\\end{pmatrix}\n",
    ".\n",
    "$$\n",
    "\n",
    "3. $Y$: $Y=iXZ$ which applies both bitflip and phaseflip on the qubit,\n",
    "\n",
    "$$\n",
    "Y=\\begin{pmatrix}\n",
    "0 & -i\\\\\n",
    "i& 0\n",
    "\\end{pmatrix}\n",
    ".\n",
    "$$\n",
    "\n",
    "4. $H$: Hadamard gate, which is a single-qubit analogy for Fourier transformation, i.e. $H\\vert 0\\rangle = \\frac{1}{\\sqrt{2}}(\\vert 0\\rangle +\\vert 1\\rangle)$, $H\\vert 1\\rangle = \\frac{1}{\\sqrt{2}}(\\vert 0\\rangle -\\vert 1\\rangle)$, with the matrix form\n",
    "\n",
    "$$\n",
    "H=\\frac{1}{\\sqrt{2}}\\begin{pmatrix}\n",
    "1 & 1\\\\\n",
    "1& -1\n",
    "\\end{pmatrix}\n",
    ".\n",
    "$$ \n",
    "\n",
    "\n",
    "5. $R_\\phi $: single qubit phase rotation gate, i.e. $R_\\phi \\vert 0\\rangle = \\vert 0\\rangle, R_\\phi\\vert 1\\rangle = e^{i\\phi}\\vert 1\\rangle$,\n",
    "\n",
    "$$\n",
    "R_\\phi=\\begin{pmatrix}\n",
    "1 & 0\\\\\n",
    "0& e^{i\\phi}\n",
    "\\end{pmatrix}\n",
    ".\n",
    "$$ \n",
    "\n",
    "Note that $Z=R_\\pi$ and $T=R_{\\pi/4}$.\n",
    "\n",
    "Also note that both quantum gates and quantum states have an overall phase redundency with no physical information. Namely, $\\vert 00\\rangle + \\vert 11\\rangle$ and $-\\vert 00\\rangle -\\vert 11\\rangle$ are the same states, and $R_\\phi$ gate can also be expressed as:\n",
    "\n",
    "$$\n",
    "R_\\phi=\\begin{pmatrix}\n",
    "e^{-i\\phi/2} & 0\\\\\n",
    "0& e^{i\\phi/2}\n",
    "\\end{pmatrix}\n",
    ".\n",
    "$$ \n",
    "\n",
    "6. Rx, Ry, Rz gate: in general we have the parameterized rotation gate as $R_P(\\theta)=e^{i\\theta/2 P}$, where $P$ corresponds the Pauli matrices $X, Y, Z$.\n",
    "\n",
    "**Inverse gate**:\n",
    "\n",
    "If $UU^{-1}=I$, we call the unitary $U^{-1}$ the inverse gate of $U$, e.g. $X^{-1}=X$, $H^{-1}=H$, $R_\\phi^{-1}=R_{-\\phi}$.\n",
    "\n",
    "**Two-qubit gates**:\n",
    "\n",
    "The gates applied on two-qubits can be expressed as 4*4 unitary matrix.\n",
    "\n",
    "1. CNOT: control not or control-X gate, which negates the second bit of its input if the first bit is 1, and does nothing if the first bit is 0, i.e.\n",
    "\n",
    "$$\n",
    "\\text{CNOT}\\vert 0b\\rangle = \\vert 0b\\rangle, \\text{CNOT}\\vert 1\\; b\\rangle = \\vert 1\\; 1-b\\rangle,\n",
    "$$\n",
    "\n",
    "where $b$ can tak $0, 1$. The matrix form is\n",
    "\n",
    "$$\n",
    "\\text{CNOT} = \\begin{pmatrix}1&0&0&0\\\\0&1&0&0\\\\0&0&0&1\\\\0&0&1&0\\end{pmatrix}.\n",
    "$$\n",
    "\n",
    "2. CZ gate: control Z gate, which apply phase flip when the first bit is 1. The matrix form is:\n",
    "\n",
    "$$\n",
    "\\text{CZ} = \\begin{pmatrix}1&0&0&0\\\\0&1&0&0\\\\0&0&1&0\\\\0&0&0&-1\\end{pmatrix}.\n",
    "$$\n",
    "\n",
    "More generally, we have:\n",
    "\n",
    "3. Control-U gate or CU gate: which applies the gate U on the second qubit when the first qubit is $1$, otherwise do nothing. The matrix form is sketched as:\n",
    "\n",
    "$$\n",
    "\\text{CU}=\\left(\\begin{array}{c|c}\n",
    "I_{2 \\times 2} & 0 \\\\\n",
    "\\hline 0 & U_{2 \\times 2}\n",
    "\\end{array}\\right).\n",
    "$$\n",
    "\n",
    "4. SWAP gate which swaps the state in the two qubit as $\\text{SWAP}\\vert b_1b_2\\rangle = \\vert b_2b_1\\rangle$. The matrix form is\n",
    "\n",
    "$$\n",
    "\\text{SWAP} = \\frac{1}{2}(I\\otimes I + X\\otimes X + Y\\otimes Y + Z\\otimes Z)=\\begin{pmatrix}1&0&0&0\\\\0&0&1&0\\\\0&1&0&0\\\\0&0&0&1\\end{pmatrix}.\n",
    "$$\n",
    "\n",
    "Note how SWAP gate is U(1) symemtric and conserve the total Z for the quantum state.\n",
    "\n",
    "The representative quantuma gates with their matrix forms and graphical notations are summarized below.\n",
    "\n",
    "<img src=\"../static/gate_list.png\">\n"
   ]
  },
  {
   "cell_type": "markdown",
   "metadata": {},
   "source": [
    "## Quantum Measurements"
   ]
  },
  {
   "cell_type": "markdown",
   "metadata": {},
   "source": [
    "## Quantum Circuits"
   ]
  },
  {
   "cell_type": "markdown",
   "metadata": {},
   "source": [
    "## Quantum complexity theory"
   ]
  },
  {
   "cell_type": "markdown",
   "metadata": {},
   "source": []
  }
 ],
 "metadata": {
  "kernelspec": {
   "display_name": "tf215",
   "language": "python",
   "name": "python3"
  },
  "language_info": {
   "codemirror_mode": {
    "name": "ipython",
    "version": 3
   },
   "file_extension": ".py",
   "mimetype": "text/x-python",
   "name": "python",
   "nbconvert_exporter": "python",
   "pygments_lexer": "ipython3",
   "version": "3.10.0"
  }
 },
 "nbformat": 4,
 "nbformat_minor": 2
}
